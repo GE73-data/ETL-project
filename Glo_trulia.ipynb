{
 "cells": [
  {
   "cell_type": "code",
   "execution_count": 1,
   "metadata": {},
   "outputs": [],
   "source": [
    "from splinter import Browser\n",
    "from bs4 import BeautifulSoup\n",
    "from webdriver_manager.chrome import ChromeDriverManager\n",
    "import pandas as pd"
   ]
  },
  {
   "cell_type": "code",
   "execution_count": 2,
   "metadata": {},
   "outputs": [],
   "source": [
    "from sklearn.preprocessing import StandardScaler"
   ]
  },
  {
   "cell_type": "code",
   "execution_count": 3,
   "metadata": {},
   "outputs": [
    {
     "name": "stderr",
     "output_type": "stream",
     "text": [
      "\n",
      "\n",
      "====== WebDriver manager ======\n",
      "Current google-chrome version is 91.0.4472\n",
      "Get LATEST driver version for 91.0.4472\n",
      "Driver [C:\\Users\\glori\\.wdm\\drivers\\chromedriver\\win32\\91.0.4472.101\\chromedriver.exe] found in cache\n"
     ]
    }
   ],
   "source": [
    "# Setup splinter\n",
    "executable_path = {'executable_path': ChromeDriverManager().install()}\n",
    "browser = Browser('chrome', **executable_path, headless=False)"
   ]
  },
  {
   "cell_type": "code",
   "execution_count": 4,
   "metadata": {},
   "outputs": [],
   "source": [
    "#Page URL\n",
    "url = 'https://www.trulia.com/for_sale/36.63199,38.40726,-78.77798,-76.20855_xy/9_zm/'\n",
    "browser.visit(url)"
   ]
  },
  {
   "cell_type": "code",
   "execution_count": 5,
   "metadata": {},
   "outputs": [
    {
     "name": "stdout",
     "output_type": "stream",
     "text": [
      "Processing Page 19 - Next Pagend\r"
     ]
    }
   ],
   "source": [
    "housePrices = []\n",
    "houseRegion = []\n",
    "houseSqrFt = []\n",
    "houseBath = []\n",
    "houseBed = []\n",
    "\n",
    "for x in range(1, 20):\n",
    "    print(f'Processing Page {x} - Initialize', end='\\r')\n",
    "    html = browser.html\n",
    "    soup = BeautifulSoup(html, 'html.parser')\n",
    "    \n",
    "     #Data scrape from html\n",
    "    prices = soup.find_all('div', {'data-testid' : \"property-price\"})\n",
    "    beds = soup.find_all('div', {'data-testid' : \"property-beds\"})\n",
    "    baths = soup.find_all('div', {'data-testid' : \"property-baths\"})\n",
    "    sqrFt = soup.find_all('div', {'data-testid' : \"property-floorSpace\"})\n",
    "    region = soup.find_all('div', {'data-testid' : \"property-region\"})\n",
    "    print(f'Processing Page {x} - Data Scrape', end='\\r')\n",
    "    \n",
    "#Add scraped data to lists\n",
    "    for i, price in enumerate(prices):        \n",
    "        housePrices.append(price.text)\n",
    "        houseBed.append(beds[i].text[0])\n",
    "        houseBath.append(baths[i].text[0])\n",
    "        houseSqrFt.append(sqrFt[i].text.split()[0])\n",
    "        houseRegion.append(region[i].text)\n",
    "    print(f'Processing Page {x} - List append', end='\\r')\n",
    "   \n",
    "    \n",
    "#Next Page button\n",
    "    browser.find_by_xpath('//*[@id=\"resultsColumn\"]/nav/ul/li[8]/a/div/svg')\n",
    "    print(f'Processing Page {x} - Next Page', end='\\r')\n"
   ]
  },
  {
   "cell_type": "code",
   "execution_count": 6,
   "metadata": {},
   "outputs": [],
   "source": [
    "# Initialize Data Frame\n",
    "house_df = pd.DataFrame(\n",
    "    {\n",
    "        'Prices': housePrices,\n",
    "        'Beds': houseBed,\n",
    "        'Baths': houseBath,\n",
    "        'SquareFt': houseSqrFt,\n",
    "        'Loc': houseRegion\n",
    "    }\n",
    "\n",
    ")"
   ]
  },
  {
   "cell_type": "code",
   "execution_count": 7,
   "metadata": {},
   "outputs": [
    {
     "name": "stdout",
     "output_type": "stream",
     "text": [
      "Bath Data already converted.\n"
     ]
    }
   ],
   "source": [
    "#Data Conversion\n",
    "\n",
    "try: \n",
    "    house_df.SquareFt = house_df.SquareFt.str.replace(',', '').astype(int)\n",
    "except:\n",
    "    print('Sqrft Data already converted.')\n",
    "try:\n",
    "    house_df.Beds = house_df.Beds.astype(int)\n",
    "except:\n",
    "    print('Bed Data already converted.')\n",
    "try:\n",
    "    house_df.Bath = house_df.Bath.astype(int)\n",
    "except:\n",
    "    print('Bath Data already converted.')\n",
    "\n",
    "try:\n",
    "    house_df.Prices = house_df.Prices.replace('[\\$,]', '', regex=True).astype(float)\n",
    "except:\n",
    "    print('Price Data already Converted.')"
   ]
  },
  {
   "cell_type": "code",
   "execution_count": 8,
   "metadata": {},
   "outputs": [
    {
     "data": {
      "text/plain": [
       "Prices      float64\n",
       "Beds          int32\n",
       "Baths        object\n",
       "SquareFt      int32\n",
       "Loc          object\n",
       "dtype: object"
      ]
     },
     "execution_count": 8,
     "metadata": {},
     "output_type": "execute_result"
    }
   ],
   "source": [
    "house_df.dtypes"
   ]
  },
  {
   "cell_type": "code",
   "execution_count": 9,
   "metadata": {},
   "outputs": [],
   "source": [
    "features = ['Prices', 'Beds', 'Baths', 'SquareFt']"
   ]
  },
  {
   "cell_type": "code",
   "execution_count": 10,
   "metadata": {},
   "outputs": [],
   "source": [
    "x = house_df.loc[:, features].values\n",
    "\n",
    "y = house_df.loc[:,['Loc']].values\n",
    "\n",
    "x = StandardScaler().fit_transform(x)"
   ]
  },
  {
   "cell_type": "code",
   "execution_count": 11,
   "metadata": {},
   "outputs": [
    {
     "data": {
      "text/html": [
       "<div>\n",
       "<style scoped>\n",
       "    .dataframe tbody tr th:only-of-type {\n",
       "        vertical-align: middle;\n",
       "    }\n",
       "\n",
       "    .dataframe tbody tr th {\n",
       "        vertical-align: top;\n",
       "    }\n",
       "\n",
       "    .dataframe thead th {\n",
       "        text-align: right;\n",
       "    }\n",
       "</style>\n",
       "<table border=\"1\" class=\"dataframe\">\n",
       "  <thead>\n",
       "    <tr style=\"text-align: right;\">\n",
       "      <th></th>\n",
       "      <th>Prices</th>\n",
       "      <th>Beds</th>\n",
       "      <th>Baths</th>\n",
       "      <th>SquareFt</th>\n",
       "      <th>Loc</th>\n",
       "    </tr>\n",
       "  </thead>\n",
       "  <tbody>\n",
       "    <tr>\n",
       "      <th>0</th>\n",
       "      <td>379000.0</td>\n",
       "      <td>4</td>\n",
       "      <td>3</td>\n",
       "      <td>1940</td>\n",
       "      <td>Charlottesville, VA</td>\n",
       "    </tr>\n",
       "    <tr>\n",
       "      <th>1</th>\n",
       "      <td>259950.0</td>\n",
       "      <td>4</td>\n",
       "      <td>2</td>\n",
       "      <td>1756</td>\n",
       "      <td>Chesterfield, VA</td>\n",
       "    </tr>\n",
       "    <tr>\n",
       "      <th>2</th>\n",
       "      <td>299750.0</td>\n",
       "      <td>4</td>\n",
       "      <td>2</td>\n",
       "      <td>1750</td>\n",
       "      <td>South Norfolk, Chesapeake, VA</td>\n",
       "    </tr>\n",
       "    <tr>\n",
       "      <th>3</th>\n",
       "      <td>209000.0</td>\n",
       "      <td>3</td>\n",
       "      <td>2</td>\n",
       "      <td>1248</td>\n",
       "      <td>North Chesterfield, VA</td>\n",
       "    </tr>\n",
       "    <tr>\n",
       "      <th>4</th>\n",
       "      <td>280000.0</td>\n",
       "      <td>4</td>\n",
       "      <td>3</td>\n",
       "      <td>2080</td>\n",
       "      <td>Chesterfield, VA</td>\n",
       "    </tr>\n",
       "    <tr>\n",
       "      <th>...</th>\n",
       "      <td>...</td>\n",
       "      <td>...</td>\n",
       "      <td>...</td>\n",
       "      <td>...</td>\n",
       "      <td>...</td>\n",
       "    </tr>\n",
       "    <tr>\n",
       "      <th>565</th>\n",
       "      <td>390000.0</td>\n",
       "      <td>3</td>\n",
       "      <td>2</td>\n",
       "      <td>2466</td>\n",
       "      <td>Charlottesville, VA</td>\n",
       "    </tr>\n",
       "    <tr>\n",
       "      <th>566</th>\n",
       "      <td>270000.0</td>\n",
       "      <td>3</td>\n",
       "      <td>2</td>\n",
       "      <td>1067</td>\n",
       "      <td>Fredericksburg, VA</td>\n",
       "    </tr>\n",
       "    <tr>\n",
       "      <th>567</th>\n",
       "      <td>375000.0</td>\n",
       "      <td>3</td>\n",
       "      <td>2</td>\n",
       "      <td>1569</td>\n",
       "      <td>Suffolk, VA</td>\n",
       "    </tr>\n",
       "    <tr>\n",
       "      <th>568</th>\n",
       "      <td>315000.0</td>\n",
       "      <td>3</td>\n",
       "      <td>2</td>\n",
       "      <td>1922</td>\n",
       "      <td>Glen Allen, VA</td>\n",
       "    </tr>\n",
       "    <tr>\n",
       "      <th>569</th>\n",
       "      <td>270000.0</td>\n",
       "      <td>4</td>\n",
       "      <td>3</td>\n",
       "      <td>1826</td>\n",
       "      <td>South Norfolk, Chesapeake, VA</td>\n",
       "    </tr>\n",
       "  </tbody>\n",
       "</table>\n",
       "<p>570 rows × 5 columns</p>\n",
       "</div>"
      ],
      "text/plain": [
       "       Prices  Beds Baths  SquareFt                            Loc\n",
       "0    379000.0     4     3      1940            Charlottesville, VA\n",
       "1    259950.0     4     2      1756               Chesterfield, VA\n",
       "2    299750.0     4     2      1750  South Norfolk, Chesapeake, VA\n",
       "3    209000.0     3     2      1248         North Chesterfield, VA\n",
       "4    280000.0     4     3      2080               Chesterfield, VA\n",
       "..        ...   ...   ...       ...                            ...\n",
       "565  390000.0     3     2      2466            Charlottesville, VA\n",
       "566  270000.0     3     2      1067             Fredericksburg, VA\n",
       "567  375000.0     3     2      1569                    Suffolk, VA\n",
       "568  315000.0     3     2      1922                 Glen Allen, VA\n",
       "569  270000.0     4     3      1826  South Norfolk, Chesapeake, VA\n",
       "\n",
       "[570 rows x 5 columns]"
      ]
     },
     "execution_count": 11,
     "metadata": {},
     "output_type": "execute_result"
    }
   ],
   "source": [
    "house_df"
   ]
  },
  {
   "cell_type": "code",
   "execution_count": 12,
   "metadata": {},
   "outputs": [],
   "source": [
    "from sklearn.decomposition import PCA\n",
    "\n",
    "pca = PCA(n_components=2)\n",
    "\n",
    "principalComponents = pca.fit_transform(x)\n",
    "\n",
    "principal_df = pd.DataFrame(\n",
    "    data = principalComponents,\n",
    "    columns = ['pc1', 'pc2']\n",
    "    \n",
    ")"
   ]
  },
  {
   "cell_type": "code",
   "execution_count": 13,
   "metadata": {},
   "outputs": [],
   "source": [
    "finalDf = pd.concat(\n",
    "    [principal_df, house_df[['Loc']]], axis = 1\n",
    ")"
   ]
  },
  {
   "cell_type": "code",
   "execution_count": 14,
   "metadata": {},
   "outputs": [
    {
     "data": {
      "text/html": [
       "<div>\n",
       "<style scoped>\n",
       "    .dataframe tbody tr th:only-of-type {\n",
       "        vertical-align: middle;\n",
       "    }\n",
       "\n",
       "    .dataframe tbody tr th {\n",
       "        vertical-align: top;\n",
       "    }\n",
       "\n",
       "    .dataframe thead th {\n",
       "        text-align: right;\n",
       "    }\n",
       "</style>\n",
       "<table border=\"1\" class=\"dataframe\">\n",
       "  <thead>\n",
       "    <tr style=\"text-align: right;\">\n",
       "      <th></th>\n",
       "      <th>pc1</th>\n",
       "      <th>pc2</th>\n",
       "      <th>Loc</th>\n",
       "    </tr>\n",
       "  </thead>\n",
       "  <tbody>\n",
       "    <tr>\n",
       "      <th>0</th>\n",
       "      <td>0.528334</td>\n",
       "      <td>-0.440219</td>\n",
       "      <td>Charlottesville, VA</td>\n",
       "    </tr>\n",
       "    <tr>\n",
       "      <th>1</th>\n",
       "      <td>-0.971587</td>\n",
       "      <td>-0.831563</td>\n",
       "      <td>Chesterfield, VA</td>\n",
       "    </tr>\n",
       "    <tr>\n",
       "      <th>2</th>\n",
       "      <td>-0.808673</td>\n",
       "      <td>-0.633630</td>\n",
       "      <td>South Norfolk, Chesapeake, VA</td>\n",
       "    </tr>\n",
       "    <tr>\n",
       "      <th>3</th>\n",
       "      <td>-2.405341</td>\n",
       "      <td>-0.036344</td>\n",
       "      <td>North Chesterfield, VA</td>\n",
       "    </tr>\n",
       "    <tr>\n",
       "      <th>4</th>\n",
       "      <td>0.235224</td>\n",
       "      <td>-0.882326</td>\n",
       "      <td>Chesterfield, VA</td>\n",
       "    </tr>\n",
       "    <tr>\n",
       "      <th>...</th>\n",
       "      <td>...</td>\n",
       "      <td>...</td>\n",
       "      <td>...</td>\n",
       "    </tr>\n",
       "    <tr>\n",
       "      <th>565</th>\n",
       "      <td>-0.548064</td>\n",
       "      <td>1.363983</td>\n",
       "      <td>Charlottesville, VA</td>\n",
       "    </tr>\n",
       "    <tr>\n",
       "      <th>566</th>\n",
       "      <td>-2.309670</td>\n",
       "      <td>0.198014</td>\n",
       "      <td>Fredericksburg, VA</td>\n",
       "    </tr>\n",
       "    <tr>\n",
       "      <th>567</th>\n",
       "      <td>-1.415642</td>\n",
       "      <td>0.928188</td>\n",
       "      <td>Suffolk, VA</td>\n",
       "    </tr>\n",
       "    <tr>\n",
       "      <th>568</th>\n",
       "      <td>-1.352889</td>\n",
       "      <td>0.767950</td>\n",
       "      <td>Glen Allen, VA</td>\n",
       "    </tr>\n",
       "    <tr>\n",
       "      <th>569</th>\n",
       "      <td>-0.034769</td>\n",
       "      <td>-1.034685</td>\n",
       "      <td>South Norfolk, Chesapeake, VA</td>\n",
       "    </tr>\n",
       "  </tbody>\n",
       "</table>\n",
       "<p>570 rows × 3 columns</p>\n",
       "</div>"
      ],
      "text/plain": [
       "          pc1       pc2                            Loc\n",
       "0    0.528334 -0.440219            Charlottesville, VA\n",
       "1   -0.971587 -0.831563               Chesterfield, VA\n",
       "2   -0.808673 -0.633630  South Norfolk, Chesapeake, VA\n",
       "3   -2.405341 -0.036344         North Chesterfield, VA\n",
       "4    0.235224 -0.882326               Chesterfield, VA\n",
       "..        ...       ...                            ...\n",
       "565 -0.548064  1.363983            Charlottesville, VA\n",
       "566 -2.309670  0.198014             Fredericksburg, VA\n",
       "567 -1.415642  0.928188                    Suffolk, VA\n",
       "568 -1.352889  0.767950                 Glen Allen, VA\n",
       "569 -0.034769 -1.034685  South Norfolk, Chesapeake, VA\n",
       "\n",
       "[570 rows x 3 columns]"
      ]
     },
     "execution_count": 14,
     "metadata": {},
     "output_type": "execute_result"
    }
   ],
   "source": [
    "finalDf"
   ]
  },
  {
   "cell_type": "code",
   "execution_count": 23,
   "metadata": {},
   "outputs": [],
   "source": [
    "import matplotlib.pyplot as plt\n",
    "import matplotlib"
   ]
  },
  {
   "cell_type": "code",
   "execution_count": 24,
   "metadata": {},
   "outputs": [
    {
     "data": {
      "image/png": "[encoded data removed]",
      "text/plain": [
       "<Figure size 576x576 with 1 Axes>"
      ]
     },
     "metadata": {
      "needs_background": "light"
     },
     "output_type": "display_data"
    }
   ],
   "source": [
    "# Additon\n",
    "fig = plt.figure(figsize = (8,8))\n",
    "ax = fig.add_subplot(1,1,1) \n",
    "ax.set_xlabel('Principal Component 1', fontsize = 15)\n",
    "ax.set_ylabel('Principal Component 2', fontsize = 15)\n",
    "ax.set_title('2 component PCA', fontsize = 20)\n",
    "targets = list(pd.unique(house_df.Loc.values))\n",
    "colors = list(matplotlib.colors.cnames.values())[0:16]\n",
    "for target, color in zip(targets,colors):\n",
    "    indicesToKeep = finalDf['Loc'] == target\n",
    "    ax.scatter(finalDf.loc[indicesToKeep, 'pc1']\n",
    "               , finalDf.loc[indicesToKeep, 'pc2']\n",
    "               , c = color\n",
    "               , s = 50)\n",
    "ax.legend(targets)\n",
    "ax.grid()"
   ]
  },
  {
   "cell_type": "code",
   "execution_count": 21,
   "metadata": {},
   "outputs": [
    {
     "data": {
      "text/plain": [
       "['Charlottesville, VA',\n",
       " 'Chesterfield, VA',\n",
       " 'South Norfolk, Chesapeake, VA',\n",
       " 'North Chesterfield, VA',\n",
       " 'Huguenot, Richmond, VA',\n",
       " 'Midlothian, VA',\n",
       " 'Williamsburg, VA',\n",
       " 'Northern Barton Heights, Richmond, VA',\n",
       " 'Suffolk, VA',\n",
       " 'Powhatan, VA',\n",
       " 'Henrico, VA',\n",
       " 'Western Branch South, Chesapeake, VA',\n",
       " 'Great Bridge, Chesapeake, VA',\n",
       " 'Mechanicsville, VA',\n",
       " 'Western Branch North, Chesapeake, VA',\n",
       " 'Crozet, VA',\n",
       " 'Fredericksburg, VA',\n",
       " 'Glen Allen, VA']"
      ]
     },
     "execution_count": 21,
     "metadata": {},
     "output_type": "execute_result"
    }
   ],
   "source": [
    "list(pd.unique(house_df.Loc.values))"
   ]
  },
  {
   "cell_type": "code",
   "execution_count": 22,
   "metadata": {},
   "outputs": [
    {
     "data": {
      "text/plain": [
       "[('Charlottesville, VA', 'r'),\n",
       " ('Chesterfield, VA', 'r'),\n",
       " ('South Norfolk, Chesapeake, VA', 'r'),\n",
       " ('North Chesterfield, VA', 'r'),\n",
       " ('Huguenot, Richmond, VA', 'r'),\n",
       " ('Midlothian, VA', 'r'),\n",
       " ('Williamsburg, VA', 'r'),\n",
       " ('Northern Barton Heights, Richmond, VA', 'r'),\n",
       " ('Suffolk, VA', 'r'),\n",
       " ('Powhatan, VA', 'r'),\n",
       " ('Henrico, VA', 'r'),\n",
       " ('Western Branch South, Chesapeake, VA', 'r'),\n",
       " ('Great Bridge, Chesapeake, VA', 'r'),\n",
       " ('Mechanicsville, VA', 'r'),\n",
       " ('Western Branch North, Chesapeake, VA', 'r')]"
      ]
     },
     "execution_count": 22,
     "metadata": {},
     "output_type": "execute_result"
    }
   ],
   "source": [
    "targets = list(pd.unique(house_df.Loc.values))\n",
    "colors = ['r']*15\n",
    "list(zip(targets,colors))"
   ]
  },
  {
   "cell_type": "code",
   "execution_count": 25,
   "metadata": {},
   "outputs": [
    {
     "data": {
      "text/plain": [
       "['#F0F8FF',\n",
       " '#FAEBD7',\n",
       " '#00FFFF',\n",
       " '#7FFFD4',\n",
       " '#F0FFFF',\n",
       " '#F5F5DC',\n",
       " '#FFE4C4',\n",
       " '#000000',\n",
       " '#FFEBCD',\n",
       " '#0000FF',\n",
       " '#8A2BE2',\n",
       " '#A52A2A',\n",
       " '#DEB887',\n",
       " '#5F9EA0',\n",
       " '#7FFF00',\n",
       " '#D2691E']"
      ]
     },
     "execution_count": 25,
     "metadata": {},
     "output_type": "execute_result"
    }
   ],
   "source": [
    "list(matplotlib.colors.cnames.values())[0:16]"
   ]
  },
  {
   "cell_type": "code",
   "execution_count": null,
   "metadata": {},
   "outputs": [],
   "source": []
  }
 ],
 "metadata": {
  "kernelspec": {
   "display_name": "Python 3",
   "language": "python",
   "name": "python3"
  },
  "language_info": {
   "codemirror_mode": {
    "name": "ipython",
    "version": 3
   },
   "file_extension": ".py",
   "mimetype": "text/x-python",
   "name": "python",
   "nbconvert_exporter": "python",
   "pygments_lexer": "ipython3",
   "version": "3.8.5"
  }
 },
 "nbformat": 4,
 "nbformat_minor": 4
}
